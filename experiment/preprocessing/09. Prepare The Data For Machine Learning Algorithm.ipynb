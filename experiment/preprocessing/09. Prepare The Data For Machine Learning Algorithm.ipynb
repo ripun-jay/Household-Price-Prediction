{
 "cells": [
  {
   "cell_type": "code",
   "execution_count": 1,
   "id": "5a7e8fef",
   "metadata": {},
   "outputs": [],
   "source": [
    "import pandas as pd\n",
    "import numpy as np\n",
    "import matplotlib.pyplot as plt\n",
    "from sklearn.model_selection import train_test_split\n",
    "from pandas.plotting import scatter_matrix"
   ]
  },
  {
   "cell_type": "code",
   "execution_count": 3,
   "id": "727a78d8",
   "metadata": {},
   "outputs": [],
   "source": [
    "housing = pd.read_csv(\"files/housing.csv\")"
   ]
  },
  {
   "cell_type": "markdown",
   "id": "70f4108d",
   "metadata": {},
   "source": [
    "--> Fun"
   ]
  },
  {
   "cell_type": "code",
   "execution_count": 4,
   "id": "3a6d6a27",
   "metadata": {},
   "outputs": [],
   "source": [
    "housing, housing_test = train_test_split(housing, test_size=0.2, stratify= housing[\"ocean_proximity\"], random_state= 42)"
   ]
  },
  {
   "cell_type": "code",
   "execution_count": 5,
   "id": "3b6a77e1",
   "metadata": {},
   "outputs": [],
   "source": [
    "# Feature and Label"
   ]
  },
  {
   "cell_type": "code",
   "execution_count": 6,
   "id": "65901300",
   "metadata": {},
   "outputs": [],
   "source": [
    "housing_labels = housing[\"median_house_value\"].copy()\n",
    "housing = housing.drop(\"median_house_value\", axis = 1)"
   ]
  },
  {
   "cell_type": "code",
   "execution_count": 7,
   "id": "1f1c80c4",
   "metadata": {},
   "outputs": [
    {
     "data": {
      "text/html": [
       "<div>\n",
       "<style scoped>\n",
       "    .dataframe tbody tr th:only-of-type {\n",
       "        vertical-align: middle;\n",
       "    }\n",
       "\n",
       "    .dataframe tbody tr th {\n",
       "        vertical-align: top;\n",
       "    }\n",
       "\n",
       "    .dataframe thead th {\n",
       "        text-align: right;\n",
       "    }\n",
       "</style>\n",
       "<table border=\"1\" class=\"dataframe\">\n",
       "  <thead>\n",
       "    <tr style=\"text-align: right;\">\n",
       "      <th></th>\n",
       "      <th>longitude</th>\n",
       "      <th>latitude</th>\n",
       "      <th>housing_median_age</th>\n",
       "      <th>total_rooms</th>\n",
       "      <th>total_bedrooms</th>\n",
       "      <th>population</th>\n",
       "      <th>households</th>\n",
       "      <th>median_income</th>\n",
       "      <th>ocean_proximity</th>\n",
       "    </tr>\n",
       "  </thead>\n",
       "  <tbody>\n",
       "    <tr>\n",
       "      <th>2931</th>\n",
       "      <td>-121.88</td>\n",
       "      <td>38.00</td>\n",
       "      <td>22.0</td>\n",
       "      <td>721.0</td>\n",
       "      <td>117.0</td>\n",
       "      <td>367.0</td>\n",
       "      <td>129.0</td>\n",
       "      <td>5.3098</td>\n",
       "      <td>INLAND</td>\n",
       "    </tr>\n",
       "    <tr>\n",
       "      <th>4175</th>\n",
       "      <td>-117.82</td>\n",
       "      <td>33.85</td>\n",
       "      <td>18.0</td>\n",
       "      <td>1810.0</td>\n",
       "      <td>305.0</td>\n",
       "      <td>1189.0</td>\n",
       "      <td>326.0</td>\n",
       "      <td>5.2227</td>\n",
       "      <td>&lt;1H OCEAN</td>\n",
       "    </tr>\n",
       "    <tr>\n",
       "      <th>12703</th>\n",
       "      <td>-118.31</td>\n",
       "      <td>34.09</td>\n",
       "      <td>34.0</td>\n",
       "      <td>2065.0</td>\n",
       "      <td>839.0</td>\n",
       "      <td>2626.0</td>\n",
       "      <td>775.0</td>\n",
       "      <td>1.8214</td>\n",
       "      <td>&lt;1H OCEAN</td>\n",
       "    </tr>\n",
       "    <tr>\n",
       "      <th>16281</th>\n",
       "      <td>-120.76</td>\n",
       "      <td>38.60</td>\n",
       "      <td>14.0</td>\n",
       "      <td>2925.0</td>\n",
       "      <td>625.0</td>\n",
       "      <td>1226.0</td>\n",
       "      <td>437.0</td>\n",
       "      <td>2.5865</td>\n",
       "      <td>INLAND</td>\n",
       "    </tr>\n",
       "    <tr>\n",
       "      <th>12420</th>\n",
       "      <td>-118.09</td>\n",
       "      <td>33.92</td>\n",
       "      <td>36.0</td>\n",
       "      <td>847.0</td>\n",
       "      <td>185.0</td>\n",
       "      <td>713.0</td>\n",
       "      <td>194.0</td>\n",
       "      <td>4.8542</td>\n",
       "      <td>&lt;1H OCEAN</td>\n",
       "    </tr>\n",
       "    <tr>\n",
       "      <th>...</th>\n",
       "      <td>...</td>\n",
       "      <td>...</td>\n",
       "      <td>...</td>\n",
       "      <td>...</td>\n",
       "      <td>...</td>\n",
       "      <td>...</td>\n",
       "      <td>...</td>\n",
       "      <td>...</td>\n",
       "      <td>...</td>\n",
       "    </tr>\n",
       "    <tr>\n",
       "      <th>3666</th>\n",
       "      <td>-118.21</td>\n",
       "      <td>34.13</td>\n",
       "      <td>52.0</td>\n",
       "      <td>2465.0</td>\n",
       "      <td>611.0</td>\n",
       "      <td>1433.0</td>\n",
       "      <td>570.0</td>\n",
       "      <td>3.2500</td>\n",
       "      <td>&lt;1H OCEAN</td>\n",
       "    </tr>\n",
       "    <tr>\n",
       "      <th>17452</th>\n",
       "      <td>-122.88</td>\n",
       "      <td>38.34</td>\n",
       "      <td>20.0</td>\n",
       "      <td>3404.0</td>\n",
       "      <td>628.0</td>\n",
       "      <td>1641.0</td>\n",
       "      <td>585.0</td>\n",
       "      <td>5.0574</td>\n",
       "      <td>&lt;1H OCEAN</td>\n",
       "    </tr>\n",
       "    <tr>\n",
       "      <th>3006</th>\n",
       "      <td>-118.03</td>\n",
       "      <td>33.90</td>\n",
       "      <td>36.0</td>\n",
       "      <td>1143.0</td>\n",
       "      <td>193.0</td>\n",
       "      <td>826.0</td>\n",
       "      <td>188.0</td>\n",
       "      <td>5.3184</td>\n",
       "      <td>&lt;1H OCEAN</td>\n",
       "    </tr>\n",
       "    <tr>\n",
       "      <th>3297</th>\n",
       "      <td>-118.36</td>\n",
       "      <td>34.09</td>\n",
       "      <td>36.0</td>\n",
       "      <td>1390.0</td>\n",
       "      <td>458.0</td>\n",
       "      <td>874.0</td>\n",
       "      <td>468.0</td>\n",
       "      <td>2.5812</td>\n",
       "      <td>&lt;1H OCEAN</td>\n",
       "    </tr>\n",
       "    <tr>\n",
       "      <th>19932</th>\n",
       "      <td>-118.11</td>\n",
       "      <td>33.79</td>\n",
       "      <td>36.0</td>\n",
       "      <td>1993.0</td>\n",
       "      <td>354.0</td>\n",
       "      <td>884.0</td>\n",
       "      <td>337.0</td>\n",
       "      <td>5.5870</td>\n",
       "      <td>&lt;1H OCEAN</td>\n",
       "    </tr>\n",
       "  </tbody>\n",
       "</table>\n",
       "<p>16512 rows × 9 columns</p>\n",
       "</div>"
      ],
      "text/plain": [
       "       longitude  latitude  housing_median_age  total_rooms  total_bedrooms  \\\n",
       "2931     -121.88     38.00                22.0        721.0           117.0   \n",
       "4175     -117.82     33.85                18.0       1810.0           305.0   \n",
       "12703    -118.31     34.09                34.0       2065.0           839.0   \n",
       "16281    -120.76     38.60                14.0       2925.0           625.0   \n",
       "12420    -118.09     33.92                36.0        847.0           185.0   \n",
       "...          ...       ...                 ...          ...             ...   \n",
       "3666     -118.21     34.13                52.0       2465.0           611.0   \n",
       "17452    -122.88     38.34                20.0       3404.0           628.0   \n",
       "3006     -118.03     33.90                36.0       1143.0           193.0   \n",
       "3297     -118.36     34.09                36.0       1390.0           458.0   \n",
       "19932    -118.11     33.79                36.0       1993.0           354.0   \n",
       "\n",
       "       population  households  median_income ocean_proximity  \n",
       "2931        367.0       129.0         5.3098          INLAND  \n",
       "4175       1189.0       326.0         5.2227       <1H OCEAN  \n",
       "12703      2626.0       775.0         1.8214       <1H OCEAN  \n",
       "16281      1226.0       437.0         2.5865          INLAND  \n",
       "12420       713.0       194.0         4.8542       <1H OCEAN  \n",
       "...           ...         ...            ...             ...  \n",
       "3666       1433.0       570.0         3.2500       <1H OCEAN  \n",
       "17452      1641.0       585.0         5.0574       <1H OCEAN  \n",
       "3006        826.0       188.0         5.3184       <1H OCEAN  \n",
       "3297        874.0       468.0         2.5812       <1H OCEAN  \n",
       "19932       884.0       337.0         5.5870       <1H OCEAN  \n",
       "\n",
       "[16512 rows x 9 columns]"
      ]
     },
     "execution_count": 7,
     "metadata": {},
     "output_type": "execute_result"
    }
   ],
   "source": [
    "housing"
   ]
  },
  {
   "cell_type": "code",
   "execution_count": 8,
   "id": "05371c9e",
   "metadata": {},
   "outputs": [
    {
     "data": {
      "text/plain": [
       "2931     151900.0\n",
       "4175     213500.0\n",
       "12703    211100.0\n",
       "16281    133800.0\n",
       "12420    167400.0\n",
       "           ...   \n",
       "3666     214200.0\n",
       "17452    276200.0\n",
       "3006     171100.0\n",
       "3297     200000.0\n",
       "19932    244900.0\n",
       "Name: median_house_value, Length: 16512, dtype: float64"
      ]
     },
     "execution_count": 8,
     "metadata": {},
     "output_type": "execute_result"
    }
   ],
   "source": [
    "housing_labels"
   ]
  },
  {
   "cell_type": "code",
   "execution_count": 9,
   "id": "f370e751",
   "metadata": {},
   "outputs": [],
   "source": [
    "# Clean the dataset"
   ]
  },
  {
   "cell_type": "raw",
   "id": "54794072",
   "metadata": {},
   "source": [
    "--> missing value\n",
    "--> upper lowe cap\n",
    "--> round off\n",
    "--> scaling\n",
    "--> feature selection\n",
    "--> feature engineering\n",
    "--> convert to bell shape"
   ]
  },
  {
   "cell_type": "code",
   "execution_count": null,
   "id": "79355d2d",
   "metadata": {},
   "outputs": [],
   "source": []
  }
 ],
 "metadata": {
  "kernelspec": {
   "display_name": "Python 3 (ipykernel)",
   "language": "python",
   "name": "python3"
  },
  "language_info": {
   "codemirror_mode": {
    "name": "ipython",
    "version": 3
   },
   "file_extension": ".py",
   "mimetype": "text/x-python",
   "name": "python",
   "nbconvert_exporter": "python",
   "pygments_lexer": "ipython3",
   "version": "3.11.4"
  }
 },
 "nbformat": 4,
 "nbformat_minor": 5
}
