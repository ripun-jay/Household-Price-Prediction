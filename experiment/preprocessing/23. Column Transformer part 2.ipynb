{
 "cells": [
  {
   "cell_type": "code",
   "execution_count": 1,
   "id": "2f8f9d92",
   "metadata": {},
   "outputs": [],
   "source": [
    "import pandas as pd\n",
    "import numpy as np\n",
    "import matplotlib.pyplot as plt\n",
    "from sklearn.model_selection import train_test_split\n",
    "from pandas.plotting import scatter_matrix\n",
    "from sklearn.impute import SimpleImputer\n",
    "\n",
    "from sklearn.preprocessing import MinMaxScaler, StandardScaler\n",
    "from sklearn.preprocessing import OrdinalEncoder, OneHotEncoder\n",
    "\n",
    "\n",
    "housing = pd.read_csv(\"files/housing.csv\")\n",
    "housing_cat = housing[[\"ocean_proximity\"]]\n",
    "housing_num = housing.select_dtypes(np.number)"
   ]
  },
  {
   "cell_type": "code",
   "execution_count": 4,
   "id": "031fc6ba",
   "metadata": {},
   "outputs": [],
   "source": [
    "from sklearn.compose import ColumnTransformer\n",
    "from sklearn.pipeline import Pipeline, make_pipeline"
   ]
  },
  {
   "cell_type": "code",
   "execution_count": 2,
   "id": "089209a8",
   "metadata": {},
   "outputs": [
    {
     "data": {
      "text/html": [
       "<div>\n",
       "<style scoped>\n",
       "    .dataframe tbody tr th:only-of-type {\n",
       "        vertical-align: middle;\n",
       "    }\n",
       "\n",
       "    .dataframe tbody tr th {\n",
       "        vertical-align: top;\n",
       "    }\n",
       "\n",
       "    .dataframe thead th {\n",
       "        text-align: right;\n",
       "    }\n",
       "</style>\n",
       "<table border=\"1\" class=\"dataframe\">\n",
       "  <thead>\n",
       "    <tr style=\"text-align: right;\">\n",
       "      <th></th>\n",
       "      <th>longitude</th>\n",
       "      <th>latitude</th>\n",
       "      <th>housing_median_age</th>\n",
       "      <th>total_rooms</th>\n",
       "      <th>total_bedrooms</th>\n",
       "      <th>population</th>\n",
       "      <th>households</th>\n",
       "      <th>median_income</th>\n",
       "      <th>median_house_value</th>\n",
       "      <th>ocean_proximity</th>\n",
       "    </tr>\n",
       "  </thead>\n",
       "  <tbody>\n",
       "    <tr>\n",
       "      <th>0</th>\n",
       "      <td>-122.23</td>\n",
       "      <td>37.88</td>\n",
       "      <td>41.0</td>\n",
       "      <td>880.0</td>\n",
       "      <td>129.0</td>\n",
       "      <td>322.0</td>\n",
       "      <td>126.0</td>\n",
       "      <td>8.3252</td>\n",
       "      <td>452600.0</td>\n",
       "      <td>NEAR BAY</td>\n",
       "    </tr>\n",
       "    <tr>\n",
       "      <th>1</th>\n",
       "      <td>-122.22</td>\n",
       "      <td>37.86</td>\n",
       "      <td>21.0</td>\n",
       "      <td>7099.0</td>\n",
       "      <td>1106.0</td>\n",
       "      <td>2401.0</td>\n",
       "      <td>1138.0</td>\n",
       "      <td>8.3014</td>\n",
       "      <td>358500.0</td>\n",
       "      <td>NEAR BAY</td>\n",
       "    </tr>\n",
       "    <tr>\n",
       "      <th>2</th>\n",
       "      <td>-122.24</td>\n",
       "      <td>37.85</td>\n",
       "      <td>52.0</td>\n",
       "      <td>1467.0</td>\n",
       "      <td>190.0</td>\n",
       "      <td>496.0</td>\n",
       "      <td>177.0</td>\n",
       "      <td>7.2574</td>\n",
       "      <td>352100.0</td>\n",
       "      <td>NEAR BAY</td>\n",
       "    </tr>\n",
       "    <tr>\n",
       "      <th>3</th>\n",
       "      <td>-122.25</td>\n",
       "      <td>37.85</td>\n",
       "      <td>52.0</td>\n",
       "      <td>1274.0</td>\n",
       "      <td>235.0</td>\n",
       "      <td>558.0</td>\n",
       "      <td>219.0</td>\n",
       "      <td>5.6431</td>\n",
       "      <td>341300.0</td>\n",
       "      <td>NEAR BAY</td>\n",
       "    </tr>\n",
       "    <tr>\n",
       "      <th>4</th>\n",
       "      <td>-122.25</td>\n",
       "      <td>37.85</td>\n",
       "      <td>52.0</td>\n",
       "      <td>1627.0</td>\n",
       "      <td>280.0</td>\n",
       "      <td>565.0</td>\n",
       "      <td>259.0</td>\n",
       "      <td>3.8462</td>\n",
       "      <td>342200.0</td>\n",
       "      <td>NEAR BAY</td>\n",
       "    </tr>\n",
       "    <tr>\n",
       "      <th>...</th>\n",
       "      <td>...</td>\n",
       "      <td>...</td>\n",
       "      <td>...</td>\n",
       "      <td>...</td>\n",
       "      <td>...</td>\n",
       "      <td>...</td>\n",
       "      <td>...</td>\n",
       "      <td>...</td>\n",
       "      <td>...</td>\n",
       "      <td>...</td>\n",
       "    </tr>\n",
       "    <tr>\n",
       "      <th>20635</th>\n",
       "      <td>-121.09</td>\n",
       "      <td>39.48</td>\n",
       "      <td>25.0</td>\n",
       "      <td>1665.0</td>\n",
       "      <td>374.0</td>\n",
       "      <td>845.0</td>\n",
       "      <td>330.0</td>\n",
       "      <td>1.5603</td>\n",
       "      <td>78100.0</td>\n",
       "      <td>INLAND</td>\n",
       "    </tr>\n",
       "    <tr>\n",
       "      <th>20636</th>\n",
       "      <td>-121.21</td>\n",
       "      <td>39.49</td>\n",
       "      <td>18.0</td>\n",
       "      <td>697.0</td>\n",
       "      <td>150.0</td>\n",
       "      <td>356.0</td>\n",
       "      <td>114.0</td>\n",
       "      <td>2.5568</td>\n",
       "      <td>77100.0</td>\n",
       "      <td>INLAND</td>\n",
       "    </tr>\n",
       "    <tr>\n",
       "      <th>20637</th>\n",
       "      <td>-121.22</td>\n",
       "      <td>39.43</td>\n",
       "      <td>17.0</td>\n",
       "      <td>2254.0</td>\n",
       "      <td>485.0</td>\n",
       "      <td>1007.0</td>\n",
       "      <td>433.0</td>\n",
       "      <td>1.7000</td>\n",
       "      <td>92300.0</td>\n",
       "      <td>INLAND</td>\n",
       "    </tr>\n",
       "    <tr>\n",
       "      <th>20638</th>\n",
       "      <td>-121.32</td>\n",
       "      <td>39.43</td>\n",
       "      <td>18.0</td>\n",
       "      <td>1860.0</td>\n",
       "      <td>409.0</td>\n",
       "      <td>741.0</td>\n",
       "      <td>349.0</td>\n",
       "      <td>1.8672</td>\n",
       "      <td>84700.0</td>\n",
       "      <td>INLAND</td>\n",
       "    </tr>\n",
       "    <tr>\n",
       "      <th>20639</th>\n",
       "      <td>-121.24</td>\n",
       "      <td>39.37</td>\n",
       "      <td>16.0</td>\n",
       "      <td>2785.0</td>\n",
       "      <td>616.0</td>\n",
       "      <td>1387.0</td>\n",
       "      <td>530.0</td>\n",
       "      <td>2.3886</td>\n",
       "      <td>89400.0</td>\n",
       "      <td>INLAND</td>\n",
       "    </tr>\n",
       "  </tbody>\n",
       "</table>\n",
       "<p>20640 rows × 10 columns</p>\n",
       "</div>"
      ],
      "text/plain": [
       "       longitude  latitude  housing_median_age  total_rooms  total_bedrooms  \\\n",
       "0        -122.23     37.88                41.0        880.0           129.0   \n",
       "1        -122.22     37.86                21.0       7099.0          1106.0   \n",
       "2        -122.24     37.85                52.0       1467.0           190.0   \n",
       "3        -122.25     37.85                52.0       1274.0           235.0   \n",
       "4        -122.25     37.85                52.0       1627.0           280.0   \n",
       "...          ...       ...                 ...          ...             ...   \n",
       "20635    -121.09     39.48                25.0       1665.0           374.0   \n",
       "20636    -121.21     39.49                18.0        697.0           150.0   \n",
       "20637    -121.22     39.43                17.0       2254.0           485.0   \n",
       "20638    -121.32     39.43                18.0       1860.0           409.0   \n",
       "20639    -121.24     39.37                16.0       2785.0           616.0   \n",
       "\n",
       "       population  households  median_income  median_house_value  \\\n",
       "0           322.0       126.0         8.3252            452600.0   \n",
       "1          2401.0      1138.0         8.3014            358500.0   \n",
       "2           496.0       177.0         7.2574            352100.0   \n",
       "3           558.0       219.0         5.6431            341300.0   \n",
       "4           565.0       259.0         3.8462            342200.0   \n",
       "...           ...         ...            ...                 ...   \n",
       "20635       845.0       330.0         1.5603             78100.0   \n",
       "20636       356.0       114.0         2.5568             77100.0   \n",
       "20637      1007.0       433.0         1.7000             92300.0   \n",
       "20638       741.0       349.0         1.8672             84700.0   \n",
       "20639      1387.0       530.0         2.3886             89400.0   \n",
       "\n",
       "      ocean_proximity  \n",
       "0            NEAR BAY  \n",
       "1            NEAR BAY  \n",
       "2            NEAR BAY  \n",
       "3            NEAR BAY  \n",
       "4            NEAR BAY  \n",
       "...               ...  \n",
       "20635          INLAND  \n",
       "20636          INLAND  \n",
       "20637          INLAND  \n",
       "20638          INLAND  \n",
       "20639          INLAND  \n",
       "\n",
       "[20640 rows x 10 columns]"
      ]
     },
     "execution_count": 2,
     "metadata": {},
     "output_type": "execute_result"
    }
   ],
   "source": [
    "housing"
   ]
  },
  {
   "cell_type": "code",
   "execution_count": 5,
   "id": "2fcf7355",
   "metadata": {},
   "outputs": [],
   "source": [
    "num_pipeline = Pipeline([\n",
    "    (\"imputer\", SimpleImputer(strategy= \"median\")),\n",
    "    (\"standardscalr\", StandardScaler())\n",
    "])"
   ]
  },
  {
   "cell_type": "code",
   "execution_count": 6,
   "id": "712403cc",
   "metadata": {},
   "outputs": [],
   "source": [
    "cat_pipeline = Pipeline([\n",
    "    (\"imputer\", SimpleImputer(strategy= \"most_frequent\")),\n",
    "    (\"onehot\", OneHotEncoder(sparse= False, handle_unknown= \"ignore\"))\n",
    "])"
   ]
  },
  {
   "cell_type": "code",
   "execution_count": 9,
   "id": "0a5acd94",
   "metadata": {},
   "outputs": [],
   "source": [
    "cat_attr = housing_cat.columns"
   ]
  },
  {
   "cell_type": "code",
   "execution_count": 10,
   "id": "d6aa6032",
   "metadata": {},
   "outputs": [],
   "source": [
    "num_attr = housing_num.columns"
   ]
  },
  {
   "cell_type": "code",
   "execution_count": 12,
   "id": "32ab7d5f",
   "metadata": {},
   "outputs": [],
   "source": [
    "preprocessing = ColumnTransformer([\n",
    "    (\"num\", num_pipeline, num_attr ),\n",
    "    (\"cat\", cat_pipeline, cat_attr )\n",
    "])"
   ]
  },
  {
   "cell_type": "code",
   "execution_count": 15,
   "id": "90029247",
   "metadata": {},
   "outputs": [
    {
     "name": "stderr",
     "output_type": "stream",
     "text": [
      "C:\\Python\\Lib\\site-packages\\sklearn\\preprocessing\\_encoders.py:972: FutureWarning: `sparse` was renamed to `sparse_output` in version 1.2 and will be removed in 1.4. `sparse_output` is ignored unless you leave `sparse` to its default value.\n",
      "  warnings.warn(\n"
     ]
    }
   ],
   "source": [
    "arr = preprocessing.fit_transform(housing)"
   ]
  },
  {
   "cell_type": "code",
   "execution_count": 19,
   "id": "41a86f76",
   "metadata": {},
   "outputs": [
    {
     "data": {
      "text/plain": [
       "array(['num__longitude', 'num__latitude', 'num__housing_median_age',\n",
       "       'num__total_rooms', 'num__total_bedrooms', 'num__population',\n",
       "       'num__households', 'num__median_income', 'num__median_house_value',\n",
       "       'cat__ocean_proximity_<1H OCEAN', 'cat__ocean_proximity_INLAND',\n",
       "       'cat__ocean_proximity_ISLAND', 'cat__ocean_proximity_NEAR BAY',\n",
       "       'cat__ocean_proximity_NEAR OCEAN'], dtype=object)"
      ]
     },
     "execution_count": 19,
     "metadata": {},
     "output_type": "execute_result"
    }
   ],
   "source": [
    "clms = preprocessing.get_feature_names_out()\n",
    "clms"
   ]
  },
  {
   "cell_type": "code",
   "execution_count": 17,
   "id": "4491f4d7",
   "metadata": {},
   "outputs": [],
   "source": [
    "df = pd.DataFrame(arr, columns= clms)"
   ]
  },
  {
   "cell_type": "code",
   "execution_count": 18,
   "id": "65e51d11",
   "metadata": {},
   "outputs": [
    {
     "data": {
      "text/html": [
       "<div>\n",
       "<style scoped>\n",
       "    .dataframe tbody tr th:only-of-type {\n",
       "        vertical-align: middle;\n",
       "    }\n",
       "\n",
       "    .dataframe tbody tr th {\n",
       "        vertical-align: top;\n",
       "    }\n",
       "\n",
       "    .dataframe thead th {\n",
       "        text-align: right;\n",
       "    }\n",
       "</style>\n",
       "<table border=\"1\" class=\"dataframe\">\n",
       "  <thead>\n",
       "    <tr style=\"text-align: right;\">\n",
       "      <th></th>\n",
       "      <th>num__longitude</th>\n",
       "      <th>num__latitude</th>\n",
       "      <th>num__housing_median_age</th>\n",
       "      <th>num__total_rooms</th>\n",
       "      <th>num__total_bedrooms</th>\n",
       "      <th>num__population</th>\n",
       "      <th>num__households</th>\n",
       "      <th>num__median_income</th>\n",
       "      <th>num__median_house_value</th>\n",
       "      <th>cat__ocean_proximity_&lt;1H OCEAN</th>\n",
       "      <th>cat__ocean_proximity_INLAND</th>\n",
       "      <th>cat__ocean_proximity_ISLAND</th>\n",
       "      <th>cat__ocean_proximity_NEAR BAY</th>\n",
       "      <th>cat__ocean_proximity_NEAR OCEAN</th>\n",
       "    </tr>\n",
       "  </thead>\n",
       "  <tbody>\n",
       "    <tr>\n",
       "      <th>0</th>\n",
       "      <td>-1.327835</td>\n",
       "      <td>1.052548</td>\n",
       "      <td>0.982143</td>\n",
       "      <td>-0.804819</td>\n",
       "      <td>-0.972476</td>\n",
       "      <td>-0.974429</td>\n",
       "      <td>-0.977033</td>\n",
       "      <td>2.344766</td>\n",
       "      <td>2.129631</td>\n",
       "      <td>0.0</td>\n",
       "      <td>0.0</td>\n",
       "      <td>0.0</td>\n",
       "      <td>1.0</td>\n",
       "      <td>0.0</td>\n",
       "    </tr>\n",
       "    <tr>\n",
       "      <th>1</th>\n",
       "      <td>-1.322844</td>\n",
       "      <td>1.043185</td>\n",
       "      <td>-0.607019</td>\n",
       "      <td>2.045890</td>\n",
       "      <td>1.357143</td>\n",
       "      <td>0.861439</td>\n",
       "      <td>1.669961</td>\n",
       "      <td>2.332238</td>\n",
       "      <td>1.314156</td>\n",
       "      <td>0.0</td>\n",
       "      <td>0.0</td>\n",
       "      <td>0.0</td>\n",
       "      <td>1.0</td>\n",
       "      <td>0.0</td>\n",
       "    </tr>\n",
       "    <tr>\n",
       "      <th>2</th>\n",
       "      <td>-1.332827</td>\n",
       "      <td>1.038503</td>\n",
       "      <td>1.856182</td>\n",
       "      <td>-0.535746</td>\n",
       "      <td>-0.827024</td>\n",
       "      <td>-0.820777</td>\n",
       "      <td>-0.843637</td>\n",
       "      <td>1.782699</td>\n",
       "      <td>1.258693</td>\n",
       "      <td>0.0</td>\n",
       "      <td>0.0</td>\n",
       "      <td>0.0</td>\n",
       "      <td>1.0</td>\n",
       "      <td>0.0</td>\n",
       "    </tr>\n",
       "    <tr>\n",
       "      <th>3</th>\n",
       "      <td>-1.337818</td>\n",
       "      <td>1.038503</td>\n",
       "      <td>1.856182</td>\n",
       "      <td>-0.624215</td>\n",
       "      <td>-0.719723</td>\n",
       "      <td>-0.766028</td>\n",
       "      <td>-0.733781</td>\n",
       "      <td>0.932968</td>\n",
       "      <td>1.165100</td>\n",
       "      <td>0.0</td>\n",
       "      <td>0.0</td>\n",
       "      <td>0.0</td>\n",
       "      <td>1.0</td>\n",
       "      <td>0.0</td>\n",
       "    </tr>\n",
       "    <tr>\n",
       "      <th>4</th>\n",
       "      <td>-1.337818</td>\n",
       "      <td>1.038503</td>\n",
       "      <td>1.856182</td>\n",
       "      <td>-0.462404</td>\n",
       "      <td>-0.612423</td>\n",
       "      <td>-0.759847</td>\n",
       "      <td>-0.629157</td>\n",
       "      <td>-0.012881</td>\n",
       "      <td>1.172900</td>\n",
       "      <td>0.0</td>\n",
       "      <td>0.0</td>\n",
       "      <td>0.0</td>\n",
       "      <td>1.0</td>\n",
       "      <td>0.0</td>\n",
       "    </tr>\n",
       "    <tr>\n",
       "      <th>...</th>\n",
       "      <td>...</td>\n",
       "      <td>...</td>\n",
       "      <td>...</td>\n",
       "      <td>...</td>\n",
       "      <td>...</td>\n",
       "      <td>...</td>\n",
       "      <td>...</td>\n",
       "      <td>...</td>\n",
       "      <td>...</td>\n",
       "      <td>...</td>\n",
       "      <td>...</td>\n",
       "      <td>...</td>\n",
       "      <td>...</td>\n",
       "      <td>...</td>\n",
       "    </tr>\n",
       "    <tr>\n",
       "      <th>20635</th>\n",
       "      <td>-0.758826</td>\n",
       "      <td>1.801647</td>\n",
       "      <td>-0.289187</td>\n",
       "      <td>-0.444985</td>\n",
       "      <td>-0.388283</td>\n",
       "      <td>-0.512592</td>\n",
       "      <td>-0.443449</td>\n",
       "      <td>-1.216128</td>\n",
       "      <td>-1.115804</td>\n",
       "      <td>0.0</td>\n",
       "      <td>1.0</td>\n",
       "      <td>0.0</td>\n",
       "      <td>0.0</td>\n",
       "      <td>0.0</td>\n",
       "    </tr>\n",
       "    <tr>\n",
       "      <th>20636</th>\n",
       "      <td>-0.818722</td>\n",
       "      <td>1.806329</td>\n",
       "      <td>-0.845393</td>\n",
       "      <td>-0.888704</td>\n",
       "      <td>-0.922403</td>\n",
       "      <td>-0.944405</td>\n",
       "      <td>-1.008420</td>\n",
       "      <td>-0.691593</td>\n",
       "      <td>-1.124470</td>\n",
       "      <td>0.0</td>\n",
       "      <td>1.0</td>\n",
       "      <td>0.0</td>\n",
       "      <td>0.0</td>\n",
       "      <td>0.0</td>\n",
       "    </tr>\n",
       "    <tr>\n",
       "      <th>20637</th>\n",
       "      <td>-0.823713</td>\n",
       "      <td>1.778237</td>\n",
       "      <td>-0.924851</td>\n",
       "      <td>-0.174995</td>\n",
       "      <td>-0.123608</td>\n",
       "      <td>-0.369537</td>\n",
       "      <td>-0.174042</td>\n",
       "      <td>-1.142593</td>\n",
       "      <td>-0.992746</td>\n",
       "      <td>0.0</td>\n",
       "      <td>1.0</td>\n",
       "      <td>0.0</td>\n",
       "      <td>0.0</td>\n",
       "      <td>0.0</td>\n",
       "    </tr>\n",
       "    <tr>\n",
       "      <th>20638</th>\n",
       "      <td>-0.873626</td>\n",
       "      <td>1.778237</td>\n",
       "      <td>-0.845393</td>\n",
       "      <td>-0.355600</td>\n",
       "      <td>-0.304827</td>\n",
       "      <td>-0.604429</td>\n",
       "      <td>-0.393753</td>\n",
       "      <td>-1.054583</td>\n",
       "      <td>-1.058608</td>\n",
       "      <td>0.0</td>\n",
       "      <td>1.0</td>\n",
       "      <td>0.0</td>\n",
       "      <td>0.0</td>\n",
       "      <td>0.0</td>\n",
       "    </tr>\n",
       "    <tr>\n",
       "      <th>20639</th>\n",
       "      <td>-0.833696</td>\n",
       "      <td>1.750146</td>\n",
       "      <td>-1.004309</td>\n",
       "      <td>0.068408</td>\n",
       "      <td>0.188757</td>\n",
       "      <td>-0.033977</td>\n",
       "      <td>0.079672</td>\n",
       "      <td>-0.780129</td>\n",
       "      <td>-1.017878</td>\n",
       "      <td>0.0</td>\n",
       "      <td>1.0</td>\n",
       "      <td>0.0</td>\n",
       "      <td>0.0</td>\n",
       "      <td>0.0</td>\n",
       "    </tr>\n",
       "  </tbody>\n",
       "</table>\n",
       "<p>20640 rows × 14 columns</p>\n",
       "</div>"
      ],
      "text/plain": [
       "       num__longitude  num__latitude  num__housing_median_age  \\\n",
       "0           -1.327835       1.052548                 0.982143   \n",
       "1           -1.322844       1.043185                -0.607019   \n",
       "2           -1.332827       1.038503                 1.856182   \n",
       "3           -1.337818       1.038503                 1.856182   \n",
       "4           -1.337818       1.038503                 1.856182   \n",
       "...               ...            ...                      ...   \n",
       "20635       -0.758826       1.801647                -0.289187   \n",
       "20636       -0.818722       1.806329                -0.845393   \n",
       "20637       -0.823713       1.778237                -0.924851   \n",
       "20638       -0.873626       1.778237                -0.845393   \n",
       "20639       -0.833696       1.750146                -1.004309   \n",
       "\n",
       "       num__total_rooms  num__total_bedrooms  num__population  \\\n",
       "0             -0.804819            -0.972476        -0.974429   \n",
       "1              2.045890             1.357143         0.861439   \n",
       "2             -0.535746            -0.827024        -0.820777   \n",
       "3             -0.624215            -0.719723        -0.766028   \n",
       "4             -0.462404            -0.612423        -0.759847   \n",
       "...                 ...                  ...              ...   \n",
       "20635         -0.444985            -0.388283        -0.512592   \n",
       "20636         -0.888704            -0.922403        -0.944405   \n",
       "20637         -0.174995            -0.123608        -0.369537   \n",
       "20638         -0.355600            -0.304827        -0.604429   \n",
       "20639          0.068408             0.188757        -0.033977   \n",
       "\n",
       "       num__households  num__median_income  num__median_house_value  \\\n",
       "0            -0.977033            2.344766                 2.129631   \n",
       "1             1.669961            2.332238                 1.314156   \n",
       "2            -0.843637            1.782699                 1.258693   \n",
       "3            -0.733781            0.932968                 1.165100   \n",
       "4            -0.629157           -0.012881                 1.172900   \n",
       "...                ...                 ...                      ...   \n",
       "20635        -0.443449           -1.216128                -1.115804   \n",
       "20636        -1.008420           -0.691593                -1.124470   \n",
       "20637        -0.174042           -1.142593                -0.992746   \n",
       "20638        -0.393753           -1.054583                -1.058608   \n",
       "20639         0.079672           -0.780129                -1.017878   \n",
       "\n",
       "       cat__ocean_proximity_<1H OCEAN  cat__ocean_proximity_INLAND  \\\n",
       "0                                 0.0                          0.0   \n",
       "1                                 0.0                          0.0   \n",
       "2                                 0.0                          0.0   \n",
       "3                                 0.0                          0.0   \n",
       "4                                 0.0                          0.0   \n",
       "...                               ...                          ...   \n",
       "20635                             0.0                          1.0   \n",
       "20636                             0.0                          1.0   \n",
       "20637                             0.0                          1.0   \n",
       "20638                             0.0                          1.0   \n",
       "20639                             0.0                          1.0   \n",
       "\n",
       "       cat__ocean_proximity_ISLAND  cat__ocean_proximity_NEAR BAY  \\\n",
       "0                              0.0                            1.0   \n",
       "1                              0.0                            1.0   \n",
       "2                              0.0                            1.0   \n",
       "3                              0.0                            1.0   \n",
       "4                              0.0                            1.0   \n",
       "...                            ...                            ...   \n",
       "20635                          0.0                            0.0   \n",
       "20636                          0.0                            0.0   \n",
       "20637                          0.0                            0.0   \n",
       "20638                          0.0                            0.0   \n",
       "20639                          0.0                            0.0   \n",
       "\n",
       "       cat__ocean_proximity_NEAR OCEAN  \n",
       "0                                  0.0  \n",
       "1                                  0.0  \n",
       "2                                  0.0  \n",
       "3                                  0.0  \n",
       "4                                  0.0  \n",
       "...                                ...  \n",
       "20635                              0.0  \n",
       "20636                              0.0  \n",
       "20637                              0.0  \n",
       "20638                              0.0  \n",
       "20639                              0.0  \n",
       "\n",
       "[20640 rows x 14 columns]"
      ]
     },
     "execution_count": 18,
     "metadata": {},
     "output_type": "execute_result"
    }
   ],
   "source": [
    "df"
   ]
  },
  {
   "cell_type": "code",
   "execution_count": 20,
   "id": "49644015",
   "metadata": {},
   "outputs": [
    {
     "name": "stdout",
     "output_type": "stream",
     "text": [
      "<class 'pandas.core.frame.DataFrame'>\n",
      "RangeIndex: 20640 entries, 0 to 20639\n",
      "Data columns (total 14 columns):\n",
      " #   Column                           Non-Null Count  Dtype  \n",
      "---  ------                           --------------  -----  \n",
      " 0   num__longitude                   20640 non-null  float64\n",
      " 1   num__latitude                    20640 non-null  float64\n",
      " 2   num__housing_median_age          20640 non-null  float64\n",
      " 3   num__total_rooms                 20640 non-null  float64\n",
      " 4   num__total_bedrooms              20640 non-null  float64\n",
      " 5   num__population                  20640 non-null  float64\n",
      " 6   num__households                  20640 non-null  float64\n",
      " 7   num__median_income               20640 non-null  float64\n",
      " 8   num__median_house_value          20640 non-null  float64\n",
      " 9   cat__ocean_proximity_<1H OCEAN   20640 non-null  float64\n",
      " 10  cat__ocean_proximity_INLAND      20640 non-null  float64\n",
      " 11  cat__ocean_proximity_ISLAND      20640 non-null  float64\n",
      " 12  cat__ocean_proximity_NEAR BAY    20640 non-null  float64\n",
      " 13  cat__ocean_proximity_NEAR OCEAN  20640 non-null  float64\n",
      "dtypes: float64(14)\n",
      "memory usage: 2.2 MB\n"
     ]
    }
   ],
   "source": [
    "df.info()"
   ]
  },
  {
   "cell_type": "code",
   "execution_count": 21,
   "id": "b0e50160",
   "metadata": {},
   "outputs": [
    {
     "name": "stdout",
     "output_type": "stream",
     "text": [
      "<class 'pandas.core.frame.DataFrame'>\n",
      "RangeIndex: 20640 entries, 0 to 20639\n",
      "Data columns (total 10 columns):\n",
      " #   Column              Non-Null Count  Dtype  \n",
      "---  ------              --------------  -----  \n",
      " 0   longitude           20640 non-null  float64\n",
      " 1   latitude            20640 non-null  float64\n",
      " 2   housing_median_age  20640 non-null  float64\n",
      " 3   total_rooms         20640 non-null  float64\n",
      " 4   total_bedrooms      20433 non-null  float64\n",
      " 5   population          20640 non-null  float64\n",
      " 6   households          20640 non-null  float64\n",
      " 7   median_income       20640 non-null  float64\n",
      " 8   median_house_value  20640 non-null  float64\n",
      " 9   ocean_proximity     20640 non-null  object \n",
      "dtypes: float64(9), object(1)\n",
      "memory usage: 1.6+ MB\n"
     ]
    }
   ],
   "source": [
    "housing.info()"
   ]
  },
  {
   "cell_type": "code",
   "execution_count": 24,
   "id": "d69ac3ed",
   "metadata": {},
   "outputs": [
    {
     "data": {
      "text/plain": [
       "array([[<Axes: title={'center': 'num__longitude'}>,\n",
       "        <Axes: title={'center': 'num__latitude'}>,\n",
       "        <Axes: title={'center': 'num__housing_median_age'}>,\n",
       "        <Axes: title={'center': 'num__total_rooms'}>],\n",
       "       [<Axes: title={'center': 'num__total_bedrooms'}>,\n",
       "        <Axes: title={'center': 'num__population'}>,\n",
       "        <Axes: title={'center': 'num__households'}>,\n",
       "        <Axes: title={'center': 'num__median_income'}>],\n",
       "       [<Axes: title={'center': 'num__median_house_value'}>,\n",
       "        <Axes: title={'center': 'cat__ocean_proximity_<1H OCEAN'}>,\n",
       "        <Axes: title={'center': 'cat__ocean_proximity_INLAND'}>,\n",
       "        <Axes: title={'center': 'cat__ocean_proximity_ISLAND'}>],\n",
       "       [<Axes: title={'center': 'cat__ocean_proximity_NEAR BAY'}>,\n",
       "        <Axes: title={'center': 'cat__ocean_proximity_NEAR OCEAN'}>,\n",
       "        <Axes: >, <Axes: >]], dtype=object)"
      ]
     },
     "execution_count": 24,
     "metadata": {},
     "output_type": "execute_result"
    },
    {
     "data": {
      "image/png": "[encoded data removed]",
      "text/plain": [
       "<Figure size 1200x1200 with 16 Axes>"
      ]
     },
     "metadata": {},
     "output_type": "display_data"
    }
   ],
   "source": [
    "df.hist(bins = 50, figsize=(12,12))"
   ]
  },
  {
   "cell_type": "code",
   "execution_count": 34,
   "id": "e00ddb2d",
   "metadata": {},
   "outputs": [],
   "source": [
    "preprocessing = ColumnTransformer([\n",
    "    (\"num\", num_pipeline, num_attr[0:2] ),\n",
    "    (\"cat\", cat_pipeline, cat_attr ),\n",
    "    (\"pass\", \"passthrough\", [num_attr[4]]),\n",
    "    (\"drops\", \"drop\", num_attr[-1])\n",
    "],\n",
    "remainder = num_pipeline)"
   ]
  },
  {
   "cell_type": "code",
   "execution_count": 36,
   "id": "f6198d29",
   "metadata": {},
   "outputs": [
    {
     "name": "stderr",
     "output_type": "stream",
     "text": [
      "C:\\Python\\Lib\\site-packages\\sklearn\\preprocessing\\_encoders.py:972: FutureWarning: `sparse` was renamed to `sparse_output` in version 1.2 and will be removed in 1.4. `sparse_output` is ignored unless you leave `sparse` to its default value.\n",
      "  warnings.warn(\n"
     ]
    },
    {
     "data": {
      "text/plain": [
       "array([[-1.32783522,  1.05254828,  0.        , ..., -0.9744286 ,\n",
       "        -0.97703285,  2.34476576],\n",
       "       [-1.32284391,  1.04318455,  0.        , ...,  0.86143887,\n",
       "         1.66996103,  2.33223796],\n",
       "       [-1.33282653,  1.03850269,  0.        , ..., -0.82077735,\n",
       "        -0.84363692,  1.7826994 ],\n",
       "       ...,\n",
       "       [-0.8237132 ,  1.77823747,  0.        , ..., -0.3695372 ,\n",
       "        -0.17404163, -1.14259331],\n",
       "       [-0.87362627,  1.77823747,  0.        , ..., -0.60442933,\n",
       "        -0.39375258, -1.05458292],\n",
       "       [-0.83369581,  1.75014627,  0.        , ..., -0.03397701,\n",
       "         0.07967221, -0.78012947]])"
      ]
     },
     "execution_count": 36,
     "metadata": {},
     "output_type": "execute_result"
    }
   ],
   "source": [
    "arr = preprocessing.fit_transform(housing)\n",
    "arr"
   ]
  },
  {
   "cell_type": "code",
   "execution_count": 37,
   "id": "85f35af1",
   "metadata": {},
   "outputs": [
    {
     "data": {
      "text/plain": [
       "(20640, 13)"
      ]
     },
     "execution_count": 37,
     "metadata": {},
     "output_type": "execute_result"
    }
   ],
   "source": [
    "arr.shape"
   ]
  },
  {
   "cell_type": "code",
   "execution_count": 38,
   "id": "c37b3df0",
   "metadata": {},
   "outputs": [
    {
     "data": {
      "text/plain": [
       "array(['num__longitude', 'num__latitude',\n",
       "       'cat__ocean_proximity_<1H OCEAN', 'cat__ocean_proximity_INLAND',\n",
       "       'cat__ocean_proximity_ISLAND', 'cat__ocean_proximity_NEAR BAY',\n",
       "       'cat__ocean_proximity_NEAR OCEAN', 'pass__total_bedrooms',\n",
       "       'remainder__housing_median_age', 'remainder__total_rooms',\n",
       "       'remainder__population', 'remainder__households',\n",
       "       'remainder__median_income'], dtype=object)"
      ]
     },
     "execution_count": 38,
     "metadata": {},
     "output_type": "execute_result"
    }
   ],
   "source": [
    "preprocessing.get_feature_names_out()"
   ]
  },
  {
   "cell_type": "code",
   "execution_count": 45,
   "id": "b92e64dc",
   "metadata": {},
   "outputs": [],
   "source": [
    "full_preprocessing = ColumnTransformer([\n",
    "    (\"num\", num_pipeline, [\"longitude\", \"latitude\"]),\n",
    "    (\"cat\", cat_pipeline, [\"ocean_proximity\"]),\n",
    "    (\"pass\", \"passthrough\", [\"median_house_value\"]),\n",
    "    (\"drops\", \"drop\", [\"population\"])\n",
    "    \n",
    "],\n",
    "    remainder = num_pipeline\n",
    ")"
   ]
  },
  {
   "cell_type": "code",
   "execution_count": 46,
   "id": "4d3ba559",
   "metadata": {},
   "outputs": [
    {
     "name": "stderr",
     "output_type": "stream",
     "text": [
      "C:\\Python\\Lib\\site-packages\\sklearn\\preprocessing\\_encoders.py:972: FutureWarning: `sparse` was renamed to `sparse_output` in version 1.2 and will be removed in 1.4. `sparse_output` is ignored unless you leave `sparse` to its default value.\n",
      "  warnings.warn(\n"
     ]
    },
    {
     "data": {
      "text/plain": [
       "array([[-1.32783522,  1.05254828,  0.        , ..., -0.97247648,\n",
       "        -0.97703285,  2.34476576],\n",
       "       [-1.32284391,  1.04318455,  0.        , ...,  1.35714343,\n",
       "         1.66996103,  2.33223796],\n",
       "       [-1.33282653,  1.03850269,  0.        , ..., -0.82702426,\n",
       "        -0.84363692,  1.7826994 ],\n",
       "       ...,\n",
       "       [-0.8237132 ,  1.77823747,  0.        , ..., -0.12360781,\n",
       "        -0.17404163, -1.14259331],\n",
       "       [-0.87362627,  1.77823747,  0.        , ..., -0.30482697,\n",
       "        -0.39375258, -1.05458292],\n",
       "       [-0.83369581,  1.75014627,  0.        , ...,  0.18875678,\n",
       "         0.07967221, -0.78012947]])"
      ]
     },
     "execution_count": 46,
     "metadata": {},
     "output_type": "execute_result"
    }
   ],
   "source": [
    "full_preprocessing.fit_transform(housing)"
   ]
  },
  {
   "cell_type": "code",
   "execution_count": 47,
   "id": "a96cf525",
   "metadata": {},
   "outputs": [
    {
     "data": {
      "text/plain": [
       "array(['num__longitude', 'num__latitude',\n",
       "       'cat__ocean_proximity_<1H OCEAN', 'cat__ocean_proximity_INLAND',\n",
       "       'cat__ocean_proximity_ISLAND', 'cat__ocean_proximity_NEAR BAY',\n",
       "       'cat__ocean_proximity_NEAR OCEAN', 'pass__median_house_value',\n",
       "       'remainder__housing_median_age', 'remainder__total_rooms',\n",
       "       'remainder__total_bedrooms', 'remainder__households',\n",
       "       'remainder__median_income'], dtype=object)"
      ]
     },
     "execution_count": 47,
     "metadata": {},
     "output_type": "execute_result"
    }
   ],
   "source": [
    "full_preprocessing.get_feature_names_out()"
   ]
  },
  {
   "cell_type": "code",
   "execution_count": 48,
   "id": "300c2639",
   "metadata": {},
   "outputs": [
    {
     "data": {
      "text/plain": [
       "0         129.0\n",
       "1        1106.0\n",
       "2         190.0\n",
       "3         235.0\n",
       "4         280.0\n",
       "          ...  \n",
       "20635     374.0\n",
       "20636     150.0\n",
       "20637     485.0\n",
       "20638     409.0\n",
       "20639     616.0\n",
       "Name: total_bedrooms, Length: 20640, dtype: float64"
      ]
     },
     "execution_count": 48,
     "metadata": {},
     "output_type": "execute_result"
    }
   ],
   "source": [
    "housing[num_attr[4]]"
   ]
  },
  {
   "cell_type": "code",
   "execution_count": 49,
   "id": "c27ea7ca",
   "metadata": {},
   "outputs": [
    {
     "data": {
      "text/plain": [
       "0        452600.0\n",
       "1        358500.0\n",
       "2        352100.0\n",
       "3        341300.0\n",
       "4        342200.0\n",
       "           ...   \n",
       "20635     78100.0\n",
       "20636     77100.0\n",
       "20637     92300.0\n",
       "20638     84700.0\n",
       "20639     89400.0\n",
       "Name: median_house_value, Length: 20640, dtype: float64"
      ]
     },
     "execution_count": 49,
     "metadata": {},
     "output_type": "execute_result"
    }
   ],
   "source": [
    "housing[\"median_house_value\"]"
   ]
  },
  {
   "cell_type": "code",
   "execution_count": 52,
   "id": "99f1eaf2",
   "metadata": {},
   "outputs": [
    {
     "data": {
      "text/plain": [
       "str"
      ]
     },
     "execution_count": 52,
     "metadata": {},
     "output_type": "execute_result"
    }
   ],
   "source": [
    "type(num_attr[4])"
   ]
  },
  {
   "cell_type": "code",
   "execution_count": 51,
   "id": "80cc30bf",
   "metadata": {},
   "outputs": [
    {
     "data": {
      "text/plain": [
       "'median_house_value'"
      ]
     },
     "execution_count": 51,
     "metadata": {},
     "output_type": "execute_result"
    }
   ],
   "source": [
    "num_attr[-1]"
   ]
  },
  {
   "cell_type": "code",
   "execution_count": null,
   "id": "74b088ad",
   "metadata": {},
   "outputs": [],
   "source": []
  }
 ],
 "metadata": {
  "kernelspec": {
   "display_name": "Python 3 (ipykernel)",
   "language": "python",
   "name": "python3"
  },
  "language_info": {
   "codemirror_mode": {
    "name": "ipython",
    "version": 3
   },
   "file_extension": ".py",
   "mimetype": "text/x-python",
   "name": "python",
   "nbconvert_exporter": "python",
   "pygments_lexer": "ipython3",
   "version": "3.11.4"
  }
 },
 "nbformat": 4,
 "nbformat_minor": 5
}
