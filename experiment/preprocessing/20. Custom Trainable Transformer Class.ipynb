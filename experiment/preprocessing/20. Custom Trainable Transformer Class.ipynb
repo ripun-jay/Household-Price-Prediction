{
 "cells": [
  {
   "cell_type": "code",
   "execution_count": 1,
   "id": "5859738b",
   "metadata": {},
   "outputs": [],
   "source": [
    "import pandas as pd\n",
    "import numpy as np\n",
    "import matplotlib.pyplot as plt\n",
    "from sklearn.model_selection import train_test_split\n",
    "from pandas.plotting import scatter_matrix\n",
    "from sklearn.impute import SimpleImputer\n",
    "\n",
    "from sklearn.preprocessing import MinMaxScaler, StandardScaler\n",
    "from sklearn.preprocessing import OrdinalEncoder, OneHotEncoder\n",
    "\n",
    "\n",
    "housing = pd.read_csv(\"files/housing.csv\")\n",
    "housing_cat = housing[[\"ocean_proximity\"]]\n",
    "housing_num = housing.select_dtypes(np.number)"
   ]
  },
  {
   "cell_type": "code",
   "execution_count": 2,
   "id": "fea1704e",
   "metadata": {},
   "outputs": [],
   "source": [
    "from sklearn.base import BaseEstimator, TransformerMixin\n",
    "from sklearn.utils.validation import check_array, check_is_fitted"
   ]
  },
  {
   "cell_type": "code",
   "execution_count": 3,
   "id": "63024a0a",
   "metadata": {},
   "outputs": [],
   "source": [
    "class StandardScalerClone(BaseEstimator, TransformerMixin):\n",
    "    \n",
    "    def __init__(self, with_mean = True):\n",
    "        self.with_mean = with_mean\n",
    "        \n",
    "    def fit(self, X, y=None):\n",
    "        X = check_array(X)\n",
    "        \n",
    "        self.mean_ = X.mean(axis=0)\n",
    "        self.scale_ = X.std(axis= 0)\n",
    "        self.n_features_in_ = X.shape[1]\n",
    "        \n",
    "    def transform(self, X):\n",
    "        check_is_fitted(self)\n",
    "        X = check_array(X)\n",
    "        assert self.n_features_in_ == X.shape[1]\n",
    "        \n",
    "        if self.with_mean == True:\n",
    "            X = X - self.mean_\n",
    "        \n",
    "        return X/self.scale_\n",
    "        "
   ]
  },
  {
   "cell_type": "code",
   "execution_count": 7,
   "id": "e1348f9e",
   "metadata": {},
   "outputs": [],
   "source": [
    "slr = StandardScalerClone(with_mean= False)\n",
    "slr.get_params"
   ]
  },
  {
   "cell_type": "code",
   "execution_count": 4,
   "id": "e5188dbb",
   "metadata": {},
   "outputs": [],
   "source": [
    "X = np.arange(9).reshape(3,3)\n",
    "\n",
    "our_scaler = StandardScalerClone()\n",
    "our_scaler.fit(X)"
   ]
  },
  {
   "cell_type": "code",
   "execution_count": 5,
   "id": "eb096c67",
   "metadata": {},
   "outputs": [
    {
     "data": {
      "text/plain": [
       "array([2.44948974, 2.44948974, 2.44948974])"
      ]
     },
     "execution_count": 5,
     "metadata": {},
     "output_type": "execute_result"
    }
   ],
   "source": [
    "our_scaler.scale_"
   ]
  },
  {
   "cell_type": "code",
   "execution_count": 6,
   "id": "2d64c0ce",
   "metadata": {},
   "outputs": [
    {
     "ename": "AttributeError",
     "evalue": "'StandardScalerClone' object has no attribute 'm_features_in_'",
     "output_type": "error",
     "traceback": [
      "\u001b[1;31m---------------------------------------------------------------------------\u001b[0m",
      "\u001b[1;31mAttributeError\u001b[0m                            Traceback (most recent call last)",
      "Cell \u001b[1;32mIn[6], line 1\u001b[0m\n\u001b[1;32m----> 1\u001b[0m \u001b[43mour_scaler\u001b[49m\u001b[38;5;241;43m.\u001b[39;49m\u001b[43mm_features_in_\u001b[49m\n",
      "\u001b[1;31mAttributeError\u001b[0m: 'StandardScalerClone' object has no attribute 'm_features_in_'"
     ]
    }
   ],
   "source": [
    "our_scaler.m_features_in_"
   ]
  },
  {
   "cell_type": "code",
   "execution_count": null,
   "id": "a6c64469",
   "metadata": {},
   "outputs": [],
   "source": [
    "our_scaler.transform(X)"
   ]
  },
  {
   "cell_type": "code",
   "execution_count": null,
   "id": "8e90fb7a",
   "metadata": {},
   "outputs": [],
   "source": [
    "X"
   ]
  },
  {
   "cell_type": "code",
   "execution_count": null,
   "id": "218846d3",
   "metadata": {},
   "outputs": [],
   "source": [
    "your_slr = StandardScalerClone(with_mean= False)"
   ]
  },
  {
   "cell_type": "code",
   "execution_count": null,
   "id": "199ea0f6",
   "metadata": {},
   "outputs": [],
   "source": [
    "your_slr.fit(X)"
   ]
  },
  {
   "cell_type": "code",
   "execution_count": null,
   "id": "7d57c130",
   "metadata": {},
   "outputs": [],
   "source": [
    "your_slr.transform(X)"
   ]
  },
  {
   "cell_type": "code",
   "execution_count": null,
   "id": "c6d3dbad",
   "metadata": {},
   "outputs": [],
   "source": [
    "your_slr.fit_transform(X)"
   ]
  },
  {
   "cell_type": "code",
   "execution_count": null,
   "id": "5fc38379",
   "metadata": {},
   "outputs": [],
   "source": [
    "our_scaler.fit_transform(X)"
   ]
  },
  {
   "cell_type": "code",
   "execution_count": null,
   "id": "a1f642ec",
   "metadata": {},
   "outputs": [],
   "source": [
    "class StanndardScalerClone(BaseEstimator, TransformerMixin):  # (x - x_mean0/std\n",
    "    \n",
    "    def __init__(self, with_mean = True):\n",
    "        self.with_mean = with_mean\n",
    "        \n",
    "    def fit(self, X, y= None):\n",
    "        X = check_array(X)  #it'll check it is arr with finite values  \n",
    "        # here it will not accpect dataframe\n",
    "        \n",
    "        self.mean_ = np.mean(X, axis = 0)\n",
    "        self.std_ = np.std(X, axis= 0)\n",
    "        self.n_features_in_ = X.shape[1]\n",
    "        \n",
    "        return self\n",
    "    \n",
    "    def transform(self, X):\n",
    "        check_is_fitted(self)  #it'll check for learned paramete None or some values using tailing (mean_)\n",
    "        \n",
    "        X = check_array(X)\n",
    "        assert self.n_features_in_ == X.shape[1]\n",
    "        \n",
    "        if  self.with_mean == True:\n",
    "            X = X - self.mean_\n",
    "            \n",
    "        return X/self.std_\n",
    "        \n",
    "        \n",
    "        "
   ]
  },
  {
   "cell_type": "code",
   "execution_count": null,
   "id": "7047ce97",
   "metadata": {},
   "outputs": [],
   "source": [
    "slr = StandardScalerClone()"
   ]
  },
  {
   "cell_type": "code",
   "execution_count": null,
   "id": "eb0bf60d",
   "metadata": {},
   "outputs": [],
   "source": [
    "slr.fit_transform(X)"
   ]
  },
  {
   "cell_type": "code",
   "execution_count": null,
   "id": "55573870",
   "metadata": {},
   "outputs": [],
   "source": [
    "class StandardScalerClone(BaseEstimator, TransformerMixin):\n",
    "    def __init__(self, with_mean=True): # no *args or **kwargs!\n",
    "        self.with_mean = with_mean\n",
    "\n",
    "    def fit(self, X, y=None): # y is required even though we don't use it\n",
    "        X = check_array(X) # checks that X is an array with finite float values\n",
    "        self.mean_ = X.mean(axis=0)\n",
    "        self.scale_ = X.std(axis=0)\n",
    "        self.n_features_in_ = X.shape[1] # every estimator stores this in fit()\n",
    "        return self # always return self!\n",
    "\n",
    "    def transform(self, X):\n",
    "        check_is_fitted(self) # looks for learned attributes (with trailing _)\n",
    "        X = check_array(X)\n",
    "        assert self.n_features_in_ == X.shape[1]\n",
    "        if self.with_mean:\n",
    "            X = X - self.mean_\n",
    "        return X / self.scale_\n"
   ]
  }
 ],
 "metadata": {
  "kernelspec": {
   "display_name": "Python 3 (ipykernel)",
   "language": "python",
   "name": "python3"
  },
  "language_info": {
   "codemirror_mode": {
    "name": "ipython",
    "version": 3
   },
   "file_extension": ".py",
   "mimetype": "text/x-python",
   "name": "python",
   "nbconvert_exporter": "python",
   "pygments_lexer": "ipython3",
   "version": "3.11.4"
  }
 },
 "nbformat": 4,
 "nbformat_minor": 5
}
