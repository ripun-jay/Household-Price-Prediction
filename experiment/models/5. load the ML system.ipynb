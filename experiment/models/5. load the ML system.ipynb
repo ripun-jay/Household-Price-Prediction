{
 "cells": [
  {
   "cell_type": "code",
   "execution_count": 1,
   "id": "9d21fe27",
   "metadata": {},
   "outputs": [
    {
     "ename": "ImportError",
     "evalue": "cannot import name 'preprocessingprocessing' from 'preprocessing' (D:\\PROJECT\\Household Price Prediction\\experiment\\models\\preprocessing.py)",
     "output_type": "error",
     "traceback": [
      "\u001b[1;31m---------------------------------------------------------------------------\u001b[0m",
      "\u001b[1;31mImportError\u001b[0m                               Traceback (most recent call last)",
      "Cell \u001b[1;32mIn[1], line 2\u001b[0m\n\u001b[0;32m      1\u001b[0m \u001b[38;5;28;01mimport\u001b[39;00m \u001b[38;5;21;01mjoblib\u001b[39;00m\n\u001b[1;32m----> 2\u001b[0m \u001b[38;5;28;01mfrom\u001b[39;00m \u001b[38;5;21;01mpreprocessing\u001b[39;00m \u001b[38;5;28;01mimport\u001b[39;00m preprocessingprocessing\n\u001b[0;32m      4\u001b[0m \u001b[38;5;66;03m# num pipeline\u001b[39;00m\n\u001b[0;32m      6\u001b[0m num_pipeline \u001b[38;5;241m=\u001b[39m Pipeline([\n\u001b[0;32m      7\u001b[0m     (\u001b[38;5;124m\"\u001b[39m\u001b[38;5;124mimpute\u001b[39m\u001b[38;5;124m\"\u001b[39m, SimpleImputer(strategy\u001b[38;5;241m=\u001b[39m \u001b[38;5;124m\"\u001b[39m\u001b[38;5;124mmedian\u001b[39m\u001b[38;5;124m\"\u001b[39m)),\n\u001b[0;32m      8\u001b[0m     (\u001b[38;5;124m\"\u001b[39m\u001b[38;5;124mscale\u001b[39m\u001b[38;5;124m\"\u001b[39m, StandardScaler(with_mean\u001b[38;5;241m=\u001b[39m \u001b[38;5;28;01mTrue\u001b[39;00m)),\n\u001b[0;32m      9\u001b[0m ])\n",
      "\u001b[1;31mImportError\u001b[0m: cannot import name 'preprocessingprocessing' from 'preprocessing' (D:\\PROJECT\\Household Price Prediction\\experiment\\models\\preprocessing.py)"
     ]
    }
   ],
   "source": [
    "import joblib\n",
    "from preprocessing import preprocessing\n",
    "\n",
    "# num pipeline\n",
    "\n",
    "num_pipeline = Pipeline([\n",
    "    (\"impute\", SimpleImputer(strategy= \"median\")),\n",
    "    (\"scale\", StandardScaler(with_mean= True)),\n",
    "])\n",
    "\n",
    "# cat pipeline\n",
    "\n",
    "cat_pipeline = Pipeline([\n",
    "    (\"impute\", SimpleImputer(strategy= \"most_frequent\")),\n",
    "    (\"onehot\", OneHotEncoder(sparse= False))\n",
    "])\n",
    "\n",
    "# ratio transformation\n",
    "\n",
    "def ratio(X):\n",
    "    return X[:,[0]]/X[:,[1]]\n",
    "\n",
    "def column_name(function_transformer, get_fetures_in):\n",
    "    return [\"ratio\"]\n",
    "\n",
    "ratio_pipeline = Pipeline([\n",
    "    (\"simpleimputer\", SimpleImputer(strategy= \"median\")),\n",
    "    (\"ratio\", FunctionTransformer(func= ratio, feature_names_out = column_name)),\n",
    "    (\"standardscaler\", StandardScaler(with_mean= True))\n",
    "])\n",
    "\n",
    "# cluster similarity\n",
    "\n",
    "class Similarity4Cluster(BaseEstimator, TransformerMixin):\n",
    "    \n",
    "    def __init__(self, n_clusters = 10, gamma = 0.1, random_state = None):\n",
    "        self.n_clusters = n_clusters\n",
    "        self.gamma = gamma\n",
    "        self.random_state = random_state\n",
    "        \n",
    "    def fit(self, X, sample_weight= None, y=None, ):\n",
    "        self.kmeans_ = KMeans(n_clusters= self.n_clusters, random_state= self.random_state)\n",
    "        self.kmeans_.fit(X, sample_weight= sample_weight)\n",
    "        \n",
    "        return self\n",
    "    \n",
    "    def transform(self, X):\n",
    "        return rbf_kernel(X, self.kmeans_.cluster_centers_, gamma= self.gamma)\n",
    "    \n",
    "    def get_feature_names_out(self,name = None):\n",
    "        return [f\"similarity with {i+1} cluster\"  for i in range(self.n_clusters)]\n",
    "\n",
    "# log transformation\n",
    "\n",
    "log_pipeline = Pipeline([\n",
    "    (\"simpleimputer\", SimpleImputer(strategy= \"median\")),\n",
    "    (\"log\", FunctionTransformer(np.log, feature_names_out= \"one-to-one\")),\n",
    "    (\"standardscaler\", StandardScaler(with_mean= True))\n",
    "])\n",
    "\n",
    "# multimodes distribution\n",
    "\n",
    "def similarity_clms(function_transformer, get_features_in):\n",
    "    return [\"Similarity With Housing age: 35\"]\n",
    "\n",
    "    \n",
    "\n",
    "simil = Pipeline([\n",
    "    (\"impute\", SimpleImputer(strategy= \"median\")),\n",
    "    (\"similarity\", FunctionTransformer(func= rbf_kernel, kw_args= dict(Y= [[35]], gamma= 0.1), feature_names_out= similarity_clms)),   #similarity with 35\n",
    "    (\"standardscaler\", StandardScaler())\n",
    "])\n",
    "\n",
    "# final Preprocessing\n",
    "\n",
    "preprocessing = ColumnTransformer([\n",
    "    (\"bedrooms\", ratio_pipeline, [\"total_bedrooms\", \"total_rooms\"]),\n",
    "    (\"rooms_per_house\", ratio_pipeline, [\"total_rooms\", \"households\"]),\n",
    "    (\"people_per_house\", ratio_pipeline, [\"population\", \"households\"]),\n",
    "    (\"log\", log_pipeline, [\"total_bedrooms\", \"total_rooms\", \"population\", \"households\", \"median_income\"]),\n",
    "    (\"geo\", Similarity4Cluster(), [\"latitude\", \"longitude\"]),\n",
    "    (\"cat\", cat_pipeline, [\"ocean_proximity\"]),\n",
    "    (\"simil\", simil, [\"housing_median_age\"]),\n",
    "#     (\"pass\", \"passthrough\", [\"median_house_value\"])\n",
    "#     (\"drops\", \"drop\", [\"median_house_value\"])\n",
    "],\n",
    "remainder = num_pipeline\n",
    ")\n",
    "\n"
   ]
  },
  {
   "cell_type": "code",
   "execution_count": null,
   "id": "e4c4ffa7",
   "metadata": {},
   "outputs": [],
   "source": [
    "final_model_reloaded= joblib.load(\"HouseXprice.pkl\")"
   ]
  },
  {
   "cell_type": "code",
   "execution_count": null,
   "id": "720df10b",
   "metadata": {},
   "outputs": [],
   "source": [
    "import pandas as pd\n",
    "import numpy as np\n",
    "import matplotlib.pyplot as plt\n",
    "from sklearn.model_selection import train_test_split\n",
    "from pandas.plotting import scatter_matrix\n",
    "from sklearn.impute import SimpleImputer\n",
    "\n",
    "from sklearn.preprocessing import MinMaxScaler, StandardScaler\n",
    "from sklearn.preprocessing import OrdinalEncoder, OneHotEncoder\n",
    "\n",
    "from sklearn.pipeline import Pipeline, make_pipeline\n",
    "from sklearn.preprocessing import FunctionTransformer\n",
    "\n",
    "from sklearn.base import clone, BaseEstimator, TransformerMixin\n",
    "\n",
    "from sklearn.metrics.pairwise import rbf_kernel\n",
    "\n",
    "from sklearn.compose import ColumnTransformer\n",
    "\n",
    "from sklearn.cluster import KMeans"
   ]
  },
  {
   "cell_type": "code",
   "execution_count": null,
   "id": "9b46526f",
   "metadata": {},
   "outputs": [],
   "source": [
    "import pandas as pd"
   ]
  },
  {
   "cell_type": "code",
   "execution_count": null,
   "id": "7c28cb8b",
   "metadata": {},
   "outputs": [],
   "source": [
    "housing = pd.read_csv(\"files/housing.csv\")\n",
    "X_sample = housing.drop(\"median_house_value\", axis= 1)"
   ]
  },
  {
   "cell_type": "code",
   "execution_count": null,
   "id": "b4f3552b",
   "metadata": {},
   "outputs": [],
   "source": [
    "X_sample"
   ]
  },
  {
   "cell_type": "code",
   "execution_count": null,
   "id": "a3db308c",
   "metadata": {},
   "outputs": [],
   "source": [
    "final_model_reloaded.predict(X_sample)"
   ]
  },
  {
   "cell_type": "code",
   "execution_count": null,
   "id": "695d8275",
   "metadata": {},
   "outputs": [],
   "source": [
    "housing.median_house_value"
   ]
  },
  {
   "cell_type": "markdown",
   "id": "54c5f1d7",
   "metadata": {},
   "source": [
    "# program for making pediction of house price\n",
    "\n"
   ]
  },
  {
   "cell_type": "code",
   "execution_count": null,
   "id": "99e80e07",
   "metadata": {},
   "outputs": [],
   "source": [
    "X_sample.columns"
   ]
  },
  {
   "cell_type": "code",
   "execution_count": null,
   "id": "fe9082d0",
   "metadata": {},
   "outputs": [],
   "source": [
    "\n",
    "# User Interation\n",
    "\n",
    "\n",
    "print(\"provide the details following\\n\\n\")\n",
    "longitude = input(\"longitude:  \")\n",
    "latitude = input(\"latitude:  \")\n",
    "housing_median_age = input(\"housing_median_age:  \")\n",
    "total_rooms = input(\"total_rooms:  \")\n",
    "total_bedrooms = input(\"total_bedrooms:  \")\n",
    "population = input(\"population:  \")\n",
    "households = input(\"households:  \")\n",
    "median_income = input(\"median_income:  \")\n",
    "ocean_proximity = input(\"ocean_proximity:  \")\n",
    "\n",
    "# prediction logic\n",
    "data = np.array([longitude, latitude, housing_median_age, total_rooms,\n",
    "       total_bedrooms, population, households, median_income,\n",
    "       ocean_proximity]).reshape(1,-1)\n",
    "\n",
    "clms = ['longitude', 'latitude', 'housing_median_age', 'total_rooms',\n",
    "       'total_bedrooms', 'population', 'households', 'median_income',\n",
    "       'ocean_proximity']\n",
    "\n",
    "df = pd.DataFrame(data, columns= clms)\n",
    "\n",
    "# prediction\n",
    "result= final_model_reloaded.predict(df)\n",
    "\n",
    "# print the prediction\n",
    "print(f\"\\n\\t\\t This House Shound be Around: {result}\")"
   ]
  },
  {
   "cell_type": "code",
   "execution_count": null,
   "id": "ca551fab",
   "metadata": {},
   "outputs": [],
   "source": [
    "df"
   ]
  },
  {
   "cell_type": "code",
   "execution_count": null,
   "id": "3aea6487",
   "metadata": {},
   "outputs": [],
   "source": [
    "df.info()"
   ]
  },
  {
   "cell_type": "code",
   "execution_count": null,
   "id": "ff1ab064",
   "metadata": {},
   "outputs": [],
   "source": []
  }
 ],
 "metadata": {
  "kernelspec": {
   "display_name": "Python 3 (ipykernel)",
   "language": "python",
   "name": "python3"
  },
  "language_info": {
   "codemirror_mode": {
    "name": "ipython",
    "version": 3
   },
   "file_extension": ".py",
   "mimetype": "text/x-python",
   "name": "python",
   "nbconvert_exporter": "python",
   "pygments_lexer": "ipython3",
   "version": "3.11.4"
  }
 },
 "nbformat": 4,
 "nbformat_minor": 5
}
